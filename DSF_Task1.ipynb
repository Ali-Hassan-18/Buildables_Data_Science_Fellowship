{
 "cells": [
  {
   "cell_type": "code",
   "execution_count": 1,
   "id": "527af264-c7ff-406c-852b-106d51fbf280",
   "metadata": {},
   "outputs": [
    {
     "name": "stdin",
     "output_type": "stream",
     "text": [
      "Enter the first number:  20\n",
      "Enter the second number:  12\n"
     ]
    },
    {
     "name": "stdout",
     "output_type": "stream",
     "text": [
      "sum of 20.0 and 12.0 is: 32.0\n"
     ]
    }
   ],
   "source": [
    "no1 = float(input(\"Enter the first number: \"))\n",
    "no2 = float(input(\"Enter the second number: \"))\n",
    "sum = no1 + no2\n",
    "print(f\"sum of {no1} and {no2} is: {sum}\")"
   ]
  },
  {
   "cell_type": "code",
   "execution_count": 3,
   "id": "a38ace5b-c0ed-4e9d-8b64-67cf21e8ce69",
   "metadata": {},
   "outputs": [
    {
     "name": "stdin",
     "output_type": "stream",
     "text": [
      "Enter the radius of the circle:  5\n"
     ]
    },
    {
     "name": "stdout",
     "output_type": "stream",
     "text": [
      "The area of the circle is: 78.5\n"
     ]
    }
   ],
   "source": [
    "radius = float(input(\"Enter the radius of the circle: \"))\n",
    "area = 3.14*radius*radius\n",
    "print(f\"The area of the circle is: {area}\")"
   ]
  },
  {
   "cell_type": "code",
   "execution_count": 6,
   "id": "96bd4de9-24c2-4356-8d5c-f06b7750ea24",
   "metadata": {},
   "outputs": [
    {
     "name": "stdin",
     "output_type": "stream",
     "text": [
      "Enter the number:  7\n"
     ]
    },
    {
     "name": "stdout",
     "output_type": "stream",
     "text": [
      "Number is odd\n"
     ]
    }
   ],
   "source": [
    "number = int(input(\"Enter the number: \"))\n",
    "if(number%2 == 0):\n",
    "    print(\"Number is even\")\n",
    "else:\n",
    "    print(\"Number is odd\")"
   ]
  },
  {
   "cell_type": "code",
   "execution_count": 7,
   "id": "4e714d53-b220-40aa-8703-b7e34ac5db8d",
   "metadata": {},
   "outputs": [
    {
     "name": "stdin",
     "output_type": "stream",
     "text": [
      "Enter the first number:  10\n",
      "Enter the second number:  3\n",
      "Enter the operator:  /\n"
     ]
    },
    {
     "name": "stdout",
     "output_type": "stream",
     "text": [
      "Result of operation is: 3.3333333333333335\n"
     ]
    }
   ],
   "source": [
    "no1 = float(input(\"Enter the first number: \"))\n",
    "no2 = float(input(\"Enter the second number: \"))\n",
    "operation = input(\"Enter the operator: \")\n",
    "if operation == '+':\n",
    "    result = no1 + no2\n",
    "elif operation == '-':\n",
    "    result = no1 - no2\n",
    "elif operation == '/':\n",
    "    if no2==0:\n",
    "        result = \"division by zero not possible\"\n",
    "    else:\n",
    "        result = no1/no2\n",
    "elif operation == '*':\n",
    "    result = no1*no2\n",
    "print(f\"Result of operation is: {result}\")"
   ]
  },
  {
   "cell_type": "code",
   "execution_count": 8,
   "id": "b37f8e62-7e77-4166-bd39-9a41e422d2c3",
   "metadata": {},
   "outputs": [
    {
     "name": "stdin",
     "output_type": "stream",
     "text": [
      "Enter the first number:  7\n",
      "Enter the second number:  15\n",
      "Enter the third number:  10\n"
     ]
    },
    {
     "name": "stdout",
     "output_type": "stream",
     "text": [
      "Largest of the three numbers is: 15.0\n"
     ]
    }
   ],
   "source": [
    "no1 = float(input(\"Enter the first number: \"))\n",
    "no2 = float(input(\"Enter the second number: \"))\n",
    "no3 = float(input(\"Enter the third number: \"))\n",
    "largest = no1\n",
    "if no2>largest:\n",
    "    largest=no2\n",
    "elif no3>largest:\n",
    "    largest=no3\n",
    "print(f\"Largest of the three numbers is: {largest}\")"
   ]
  },
  {
   "cell_type": "code",
   "execution_count": 9,
   "id": "e8ecb0a4-77da-4dea-a0d6-d165e09dd3c9",
   "metadata": {},
   "outputs": [
    {
     "name": "stdin",
     "output_type": "stream",
     "text": [
      "Enter a string:  hello\n"
     ]
    },
    {
     "name": "stdout",
     "output_type": "stream",
     "text": [
      "Reversed string is: olleh\n"
     ]
    }
   ],
   "source": [
    "string = input(\"Enter a string: \")\n",
    "rstring = string[::-1]\n",
    "print(f\"Reversed string is: {rstring}\")"
   ]
  },
  {
   "cell_type": "code",
   "execution_count": 10,
   "id": "566f58b8-8db5-41c0-bee1-f1e115bbf7d7",
   "metadata": {},
   "outputs": [
    {
     "name": "stdin",
     "output_type": "stream",
     "text": [
      "Enter a string:  moneka\n"
     ]
    },
    {
     "name": "stdout",
     "output_type": "stream",
     "text": [
      "The number of vowels is: 3\n"
     ]
    }
   ],
   "source": [
    "string = input(\"Enter a string: \")\n",
    "lowercase_string = string.lower()\n",
    "vowels = \"aeiou\"\n",
    "count = 0\n",
    "for char in lowercase_string:\n",
    "    if char in vowels:\n",
    "        count+=1\n",
    "print(f\"The number of vowels is: {count}\")"
   ]
  },
  {
   "cell_type": "code",
   "execution_count": 11,
   "id": "65215201-5745-4059-8def-072b443697a9",
   "metadata": {},
   "outputs": [
    {
     "name": "stdin",
     "output_type": "stream",
     "text": [
      "Enter the number of terms in the sequence:  5\n"
     ]
    },
    {
     "name": "stdout",
     "output_type": "stream",
     "text": [
      "fibonacci sequence: \n",
      "0 1 1 2 3 "
     ]
    }
   ],
   "source": [
    "nterms = int(input(\"Enter the number of terms in the sequence: \"))\n",
    "if nterms<0:\n",
    "    print(\"Enter a positive integer\")\n",
    "else:\n",
    "    n1 = 0\n",
    "    n2 = 1\n",
    "    count = 0\n",
    "    print(\"fibonacci sequence: \")\n",
    "    while count<nterms:\n",
    "        print(n1, end=\" \")\n",
    "        nth = n1 + n2\n",
    "        n1 = n2\n",
    "        n2 = nth\n",
    "        count+=1"
   ]
  },
  {
   "cell_type": "code",
   "execution_count": 13,
   "id": "2052c5dc-67cf-47a3-8607-b6725532ba54",
   "metadata": {},
   "outputs": [
    {
     "name": "stdin",
     "output_type": "stream",
     "text": [
      "Enter a string:  radar\n"
     ]
    },
    {
     "name": "stdout",
     "output_type": "stream",
     "text": [
      "radar is palindrome\n"
     ]
    }
   ],
   "source": [
    "string = input(\"Enter a string: \")\n",
    "lower_string = string.lower()\n",
    "rstring = lower_string[::-1]\n",
    "if lower_string == rstring:\n",
    "    print(f\"{string} is palindrome\")\n",
    "else:\n",
    "    print(f\"{string} is not palindrome\")"
   ]
  },
  {
   "cell_type": "code",
   "execution_count": null,
   "id": "6c6dbdad-7da9-434d-9c52-2f46bc2f9a28",
   "metadata": {},
   "outputs": [],
   "source": []
  }
 ],
 "metadata": {
  "kernelspec": {
   "display_name": "Python [conda env:base] *",
   "language": "python",
   "name": "conda-base-py"
  },
  "language_info": {
   "codemirror_mode": {
    "name": "ipython",
    "version": 3
   },
   "file_extension": ".py",
   "mimetype": "text/x-python",
   "name": "python",
   "nbconvert_exporter": "python",
   "pygments_lexer": "ipython3",
   "version": "3.13.5"
  }
 },
 "nbformat": 4,
 "nbformat_minor": 5
}
