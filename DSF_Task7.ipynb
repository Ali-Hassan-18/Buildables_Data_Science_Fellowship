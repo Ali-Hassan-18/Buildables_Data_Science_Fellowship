{
 "cells": [
  {
   "cell_type": "markdown",
   "id": "0a70b07c",
   "metadata": {},
   "source": [
    "# Real-World Data Preprocessing and Feature Engineering"
   ]
  },
  {
   "cell_type": "markdown",
   "id": "2f7ae972",
   "metadata": {},
   "source": [
    "## Task 1: Handling Missing Data – Titanic Dataset\n",
    "Dataset file: **titanic.csv**"
   ]
  },
  {
   "cell_type": "code",
   "execution_count": 1,
   "id": "c08d9e6b",
   "metadata": {},
   "outputs": [
    {
     "name": "stdout",
     "output_type": "stream",
     "text": [
      "PassengerId      0\n",
      "Pclass           0\n",
      "Name             0\n",
      "Sex              0\n",
      "Age             86\n",
      "SibSp            0\n",
      "Parch            0\n",
      "Ticket           0\n",
      "Fare             1\n",
      "Cabin          327\n",
      "Embarked         0\n",
      "dtype: int64\n",
      "PassengerId    0\n",
      "Pclass         0\n",
      "Name           0\n",
      "Sex            0\n",
      "Age            0\n",
      "SibSp          0\n",
      "Parch          0\n",
      "Ticket         0\n",
      "Fare           1\n",
      "Embarked       0\n",
      "dtype: int64\n"
     ]
    }
   ],
   "source": [
    "import pandas as pd\n",
    "\n",
    "df = pd.read_csv('titanic.csv')\n",
    "print(df.isnull().sum())\n",
    "\n",
    "# Fill numerical with median\n",
    "df['Age'] = df['Age'].fillna(df['Age'].median())\n",
    "\n",
    "# Fill categorical with mode\n",
    "df['Embarked'] = df['Embarked'].fillna(df['Embarked'].mode()[0])\n",
    "\n",
    "# Drop cabin due to too many missing\n",
    "df = df.drop(columns=['Cabin'])\n",
    "\n",
    "print(df.isnull().sum())"
   ]
  },
  {
   "cell_type": "markdown",
   "id": "d049325e",
   "metadata": {},
   "source": [
    "## Task 2: Encoding Categorical Variables – Car Evaluation Dataset\n",
    "Dataset file: **car.data**"
   ]
  },
  {
   "cell_type": "code",
   "execution_count": 2,
   "id": "9116261a",
   "metadata": {},
   "outputs": [
    {
     "name": "stdout",
     "output_type": "stream",
     "text": [
      "  buying  maint doors persons lug_boot safety  class\n",
      "0  vhigh  vhigh     2       2    small    low  unacc\n",
      "1  vhigh  vhigh     2       2    small    med  unacc\n",
      "2  vhigh  vhigh     2       2    small   high  unacc\n",
      "3  vhigh  vhigh     2       2      med    low  unacc\n",
      "4  vhigh  vhigh     2       2      med    med  unacc\n",
      "  buying  maint doors persons lug_boot safety  class  buying_label  \\\n",
      "0  vhigh  vhigh     2       2    small    low  unacc             3   \n",
      "1  vhigh  vhigh     2       2    small    med  unacc             3   \n",
      "2  vhigh  vhigh     2       2    small   high  unacc             3   \n",
      "3  vhigh  vhigh     2       2      med    low  unacc             3   \n",
      "4  vhigh  vhigh     2       2      med    med  unacc             3   \n",
      "\n",
      "   maint_label  doors_label  persons_label  lug_boot_label  safety_label  \\\n",
      "0            3            0              0               2             1   \n",
      "1            3            0              0               2             2   \n",
      "2            3            0              0               2             0   \n",
      "3            3            0              0               1             1   \n",
      "4            3            0              0               1             2   \n",
      "\n",
      "   class_label  \n",
      "0            2  \n",
      "1            2  \n",
      "2            2  \n",
      "3            2  \n",
      "4            2  \n",
      "   buying_high  buying_low  buying_med  buying_vhigh  maint_high  maint_low  \\\n",
      "0        False       False       False          True       False      False   \n",
      "1        False       False       False          True       False      False   \n",
      "2        False       False       False          True       False      False   \n",
      "3        False       False       False          True       False      False   \n",
      "4        False       False       False          True       False      False   \n",
      "\n",
      "   maint_med  maint_vhigh  doors_2  doors_3  ...  lug_boot_big  lug_boot_med  \\\n",
      "0      False         True     True    False  ...         False         False   \n",
      "1      False         True     True    False  ...         False         False   \n",
      "2      False         True     True    False  ...         False         False   \n",
      "3      False         True     True    False  ...         False          True   \n",
      "4      False         True     True    False  ...         False          True   \n",
      "\n",
      "   lug_boot_small  safety_high  safety_low  safety_med  class_acc  class_good  \\\n",
      "0            True        False        True       False      False       False   \n",
      "1            True        False       False        True      False       False   \n",
      "2            True         True       False       False      False       False   \n",
      "3           False        False        True       False      False       False   \n",
      "4           False        False       False        True      False       False   \n",
      "\n",
      "   class_unacc  class_vgood  \n",
      "0         True        False  \n",
      "1         True        False  \n",
      "2         True        False  \n",
      "3         True        False  \n",
      "4         True        False  \n",
      "\n",
      "[5 rows x 25 columns]\n"
     ]
    }
   ],
   "source": [
    "import pandas as pd\n",
    "from sklearn.preprocessing import LabelEncoder\n",
    "\n",
    "cols = ['buying','maint','doors','persons','lug_boot','safety','class']\n",
    "df = pd.read_csv('car.data', names=cols)\n",
    "\n",
    "print(df.head())\n",
    "\n",
    "# Label Encoding\n",
    "le = LabelEncoder()\n",
    "for col in df.columns:\n",
    "    df[col+'_label'] = le.fit_transform(df[col])\n",
    "\n",
    "print(df.head())\n",
    "\n",
    "# One-Hot Encoding\n",
    "df_onehot = pd.get_dummies(df[cols])\n",
    "print(df_onehot.head())"
   ]
  },
  {
   "cell_type": "markdown",
   "id": "a17afb42",
   "metadata": {},
   "source": [
    "## Task 3: Feature Scaling – Wine Quality Dataset\n",
    "Dataset file: **winequality-red.csv**"
   ]
  },
  {
   "cell_type": "code",
   "execution_count": 3,
   "id": "c235344a",
   "metadata": {},
   "outputs": [
    {
     "name": "stdout",
     "output_type": "stream",
     "text": [
      "Standardized Mean: -2.7647703016329102e-15\n",
      "MinMax Range: 0.0 1.0000000000000002\n"
     ]
    }
   ],
   "source": [
    "import pandas as pd\n",
    "from sklearn.preprocessing import StandardScaler, MinMaxScaler\n",
    "\n",
    "df = pd.read_csv('winequality-red.csv', sep=';')\n",
    "\n",
    "scaler_std = StandardScaler()\n",
    "scaler_minmax = MinMaxScaler()\n",
    "\n",
    "X = df.drop('quality', axis=1)\n",
    "\n",
    "X_std = scaler_std.fit_transform(X)\n",
    "X_minmax = scaler_minmax.fit_transform(X)\n",
    "\n",
    "print('Standardized Mean:', X_std.mean())\n",
    "print('MinMax Range:', X_minmax.min(), X_minmax.max())"
   ]
  },
  {
   "cell_type": "markdown",
   "id": "3c21032a",
   "metadata": {},
   "source": [
    "## Task 4: Handling Outliers – Boston Housing Dataset\n",
    "Dataset file: **BostonHousing.csv**"
   ]
  },
  {
   "cell_type": "code",
   "execution_count": 5,
   "id": "83187aa5",
   "metadata": {},
   "outputs": [
    {
     "name": "stdout",
     "output_type": "stream",
     "text": [
      "36\n",
      "Original: (173, 14) Filtered: (101, 14)\n"
     ]
    }
   ],
   "source": [
    "import pandas as pd\n",
    "import numpy as np\n",
    "\n",
    "df = pd.read_csv('boston-housing.csv')\n",
    "\n",
    "# Z-score method\n",
    "from scipy import stats\n",
    "z = np.abs(stats.zscore(df))\n",
    "print((z>3).sum())\n",
    "\n",
    "# IQR method\n",
    "Q1 = df.quantile(0.25)\n",
    "Q3 = df.quantile(0.75)\n",
    "IQR = Q3-Q1\n",
    "filtered = df[~((df < (Q1 - 1.5*IQR)) | (df > (Q3 + 1.5*IQR))).any(axis=1)]\n",
    "\n",
    "print('Original:', df.shape, 'Filtered:', filtered.shape)"
   ]
  },
  {
   "cell_type": "markdown",
   "id": "2b17a43d",
   "metadata": {},
   "source": [
    "## Task 5: Advanced Data Imputation – Retail Sales Dataset\n",
    "Dataset file: **retail_sales.csv**"
   ]
  },
  {
   "cell_type": "code",
   "execution_count": 6,
   "id": "2b1eb639",
   "metadata": {},
   "outputs": [
    {
     "name": "stdout",
     "output_type": "stream",
     "text": [
      "Imputation done using KNN\n"
     ]
    }
   ],
   "source": [
    "import pandas as pd\n",
    "from sklearn.impute import KNNImputer\n",
    "\n",
    "df = pd.read_csv('retail_sales_dataset.csv')\n",
    "\n",
    "knn = KNNImputer(n_neighbors=5)\n",
    "df_imputed = knn.fit_transform(df.select_dtypes(include=['float64','int64']))\n",
    "\n",
    "print('Imputation done using KNN')"
   ]
  },
  {
   "cell_type": "markdown",
   "id": "cafdc79d",
   "metadata": {},
   "source": [
    "## Task 6: Feature Engineering – Heart Disease Dataset\n",
    "Dataset file: **heart.csv**"
   ]
  },
  {
   "cell_type": "code",
   "execution_count": 12,
   "id": "66c49263",
   "metadata": {},
   "outputs": [
    {
     "name": "stdout",
     "output_type": "stream",
     "text": [
      "    age AgeGroup   chol     CholCat\n",
      "0  63.0      60+  233.0  Borderline\n",
      "1  67.0      60+  286.0        High\n",
      "2  67.0      60+  229.0  Borderline\n",
      "3  37.0    30-40  250.0        High\n",
      "4  41.0    40-50  204.0  Borderline\n"
     ]
    }
   ],
   "source": [
    "import pandas as pd\n",
    "\n",
    "columns = [\n",
    "    'age', 'sex', 'cp', 'trestbps', 'chol', 'fbs',\n",
    "    'restecg', 'thalach', 'exang', 'oldpeak',\n",
    "    'slope', 'ca', 'thal', 'target'\n",
    "]\n",
    "\n",
    "df = pd.read_csv('processed.cleveland.data', names=columns)\n",
    "\n",
    "df = df.replace('?', pd.NA)\n",
    "\n",
    "for col in ['age','trestbps','chol','thalach','oldpeak','ca','thal']:\n",
    "    df[col] = pd.to_numeric(df[col], errors='coerce')\n",
    "\n",
    "# now create new features\n",
    "df['AgeGroup'] = pd.cut(\n",
    "    df['age'], \n",
    "    bins=[0,30,40,50,60,100], \n",
    "    labels=['<30','30-40','40-50','50-60','60+']\n",
    ")\n",
    "\n",
    "df['CholCat'] = pd.cut(\n",
    "    df['chol'], \n",
    "    bins=[0,200,240,600], \n",
    "    labels=['Normal','Borderline','High']\n",
    ")\n",
    "\n",
    "print(df[['age','AgeGroup','chol','CholCat']].head())"
   ]
  },
  {
   "cell_type": "markdown",
   "id": "4ce9ed54",
   "metadata": {},
   "source": [
    "## Task 7: Variable Transformation – Bike Sharing Dataset\n",
    "Dataset file: **day.csv**"
   ]
  },
  {
   "cell_type": "code",
   "execution_count": 13,
   "id": "76a2774c",
   "metadata": {},
   "outputs": [
    {
     "name": "stdout",
     "output_type": "stream",
     "text": [
      "    cnt   log_cnt   sqrt_cnt  boxcox_cnt\n",
      "0   985  6.893656  31.384710  499.329506\n",
      "1   801  6.687109  28.301943  415.834439\n",
      "2  1349  7.207860  36.728735  659.495676\n",
      "3  1562  7.354362  39.522146  750.805907\n",
      "4  1600  7.378384  40.000000  766.938328\n"
     ]
    }
   ],
   "source": [
    "import pandas as pd\n",
    "import numpy as np\n",
    "from scipy.stats import boxcox\n",
    "\n",
    "df = pd.read_csv('day.csv')\n",
    "\n",
    "df['log_cnt'] = np.log1p(df['cnt'])\n",
    "df['sqrt_cnt'] = np.sqrt(df['cnt'])\n",
    "\n",
    "df['boxcox_cnt'], _ = boxcox(df['cnt']+1)\n",
    "\n",
    "print(df[['cnt','log_cnt','sqrt_cnt','boxcox_cnt']].head())"
   ]
  },
  {
   "cell_type": "markdown",
   "id": "3631dee6",
   "metadata": {},
   "source": [
    "## Task 8: Feature Selection – Diabetes Dataset\n",
    "Dataset file: **diabetes.csv**"
   ]
  },
  {
   "cell_type": "code",
   "execution_count": 14,
   "id": "ac1efe05",
   "metadata": {},
   "outputs": [
    {
     "name": "stdout",
     "output_type": "stream",
     "text": [
      "Pregnancies                 0.221898\n",
      "Glucose                     0.466581\n",
      "BloodPressure               0.065068\n",
      "SkinThickness               0.074752\n",
      "Insulin                     0.130548\n",
      "BMI                         0.292695\n",
      "DiabetesPedigreeFunction    0.173844\n",
      "Age                         0.238356\n",
      "Outcome                     1.000000\n",
      "Name: Outcome, dtype: float64\n",
      "Selected Features: Index(['Pregnancies', 'Glucose', 'BMI', 'DiabetesPedigreeFunction', 'Age'], dtype='object')\n"
     ]
    }
   ],
   "source": [
    "import pandas as pd\n",
    "from sklearn.feature_selection import RFE\n",
    "from sklearn.linear_model import LogisticRegression\n",
    "\n",
    "df = pd.read_csv('diabetes.csv')\n",
    "\n",
    "print(df.corr()['Outcome'])\n",
    "\n",
    "X = df.drop('Outcome', axis=1)\n",
    "y = df['Outcome']\n",
    "\n",
    "model = LogisticRegression(max_iter=500)\n",
    "rfe = RFE(model, n_features_to_select=5)\n",
    "rfe.fit(X,y)\n",
    "print('Selected Features:', X.columns[rfe.support_])"
   ]
  },
  {
   "cell_type": "markdown",
   "id": "6a3aef82",
   "metadata": {},
   "source": [
    "## Task 9: Handling Imbalanced Data – Credit Card Fraud Detection\n",
    "Dataset file: **creditcard.csv**"
   ]
  },
  {
   "cell_type": "code",
   "execution_count": 15,
   "id": "cfe03445",
   "metadata": {},
   "outputs": [
    {
     "name": "stdout",
     "output_type": "stream",
     "text": [
      "Before: Class\n",
      "0    284315\n",
      "1       492\n",
      "Name: count, dtype: int64\n",
      "After: Class\n",
      "0    284315\n",
      "1    284315\n",
      "Name: count, dtype: int64\n"
     ]
    }
   ],
   "source": [
    "import pandas as pd\n",
    "from imblearn.over_sampling import SMOTE\n",
    "\n",
    "df = pd.read_csv('creditcard.csv')\n",
    "X = df.drop('Class', axis=1)\n",
    "y = df['Class']\n",
    "\n",
    "sm = SMOTE(random_state=42)\n",
    "X_res, y_res = sm.fit_resample(X,y)\n",
    "print('Before:', y.value_counts())\n",
    "print('After:', y_res.value_counts())"
   ]
  },
  {
   "cell_type": "markdown",
   "id": "76a2dc0b",
   "metadata": {},
   "source": [
    "## Task 10: Combining Multiple Datasets – MovieLens Dataset\n",
    "Dataset file: **ratings.csv + movies.csv + users.csv**"
   ]
  },
  {
   "cell_type": "code",
   "execution_count": 16,
   "id": "47359c7b",
   "metadata": {},
   "outputs": [
    {
     "name": "stdout",
     "output_type": "stream",
     "text": [
      "   userId  movieId_x  rating  timestamp_x                             title  \\\n",
      "0       2        318     3.0   1445714835  Shawshank Redemption, The (1994)   \n",
      "1       2        318     3.0   1445714835  Shawshank Redemption, The (1994)   \n",
      "2       2        318     3.0   1445714835  Shawshank Redemption, The (1994)   \n",
      "3       2        318     3.0   1445714835  Shawshank Redemption, The (1994)   \n",
      "4       2        318     3.0   1445714835  Shawshank Redemption, The (1994)   \n",
      "\n",
      "        genres  movieId_y              tag  timestamp_y  \n",
      "0  Crime|Drama      60756            funny   1445714994  \n",
      "1  Crime|Drama      60756  Highly quotable   1445714996  \n",
      "2  Crime|Drama      60756     will ferrell   1445714992  \n",
      "3  Crime|Drama      89774     Boxing story   1445715207  \n",
      "4  Crime|Drama      89774              MMA   1445715200  \n"
     ]
    }
   ],
   "source": [
    "import pandas as pd\n",
    "\n",
    "ratings = pd.read_csv('ratings.csv')\n",
    "movies = pd.read_csv('movies.csv')\n",
    "users = pd.read_csv('tags.csv')\n",
    "\n",
    "merged = ratings.merge(movies, on='movieId').merge(users, on='userId')\n",
    "print(merged.head())"
   ]
  },
  {
   "cell_type": "markdown",
   "id": "3b1109e8",
   "metadata": {},
   "source": [
    "## Task 11: Dimensionality Reduction – MNIST Dataset\n",
    "Dataset file: **mnist.csv**"
   ]
  },
  {
   "cell_type": "code",
   "execution_count": 20,
   "id": "08140eab",
   "metadata": {},
   "outputs": [
    {
     "name": "stdout",
     "output_type": "stream",
     "text": [
      "Explained variance ratio (sum of 10 first): 0.7382267688459532\n"
     ]
    },
    {
     "data": {
      "image/png": "[encoded data removed]",
      "text/plain": [
       "<Figure size 640x480 with 1 Axes>"
      ]
     },
     "metadata": {},
     "output_type": "display_data"
    }
   ],
   "source": [
    "# Task 11: Dimensionality Reduction (MNIST / digits)\n",
    "import os, pandas as pd\n",
    "from sklearn.decomposition import PCA\n",
    "from sklearn.manifold import TSNE\n",
    "import matplotlib.pyplot as plt\n",
    "from sklearn.datasets import load_digits\n",
    "digits = load_digits()\n",
    "X = digits.data\n",
    "y = digits.target\n",
    "\n",
    "pca = PCA(n_components=50, random_state=0)\n",
    "X_pca = pca.fit_transform(X)\n",
    "print(\"Explained variance ratio (sum of 10 first):\", pca.explained_variance_ratio_[:10].sum())\n",
    "\n",
    "subset = 500 if len(X) > 500 else len(X)\n",
    "tsne = TSNE(n_components=2, random_state=0, perplexity=30, max_iter=500)\n",
    "X2 = tsne.fit_transform(X[:subset])\n",
    "plt.scatter(X2[:,0], X2[:,1], c=y[:subset], cmap='tab10', s=8)\n",
    "plt.title('t-SNE (subset)')\n",
    "plt.show()\n"
   ]
  }
 ],
 "metadata": {
  "kernelspec": {
   "display_name": "Python [conda env:base] *",
   "language": "python",
   "name": "conda-base-py"
  },
  "language_info": {
   "codemirror_mode": {
    "name": "ipython",
    "version": 3
   },
   "file_extension": ".py",
   "mimetype": "text/x-python",
   "name": "python",
   "nbconvert_exporter": "python",
   "pygments_lexer": "ipython3",
   "version": "3.13.5"
  }
 },
 "nbformat": 4,
 "nbformat_minor": 5
}
