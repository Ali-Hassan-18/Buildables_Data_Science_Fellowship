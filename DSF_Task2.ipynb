{
 "cells": [
  {
   "cell_type": "code",
   "execution_count": 5,
   "id": "6171b552-b913-4c02-9c4b-a4d3aaa270c7",
   "metadata": {},
   "outputs": [
    {
     "name": "stdin",
     "output_type": "stream",
     "text": [
      "Enter a string:  Python\n"
     ]
    },
    {
     "name": "stdout",
     "output_type": "stream",
     "text": [
      "Python is not a palindrome\n"
     ]
    }
   ],
   "source": [
    "string = input(\"Enter a string: \")\n",
    "lower_string = string.lower() ##converting the string into all lowercase letters\n",
    "reversed_string = lower_string[::-1] #reversing the string\n",
    "if reversed_string == lower_string: #comparing the two strings to check if its palindrome\n",
    "    print(f\"{string} is a palindrome\") \n",
    "else:\n",
    "    print(f\"{string} is not a palindrome\") "
   ]
  },
  {
   "cell_type": "code",
   "execution_count": 6,
   "id": "c993cc29-7a2e-48bc-abbe-ddb340c4ccd6",
   "metadata": {},
   "outputs": [
    {
     "name": "stdout",
     "output_type": "stream",
     "text": [
      "1\n",
      "2\n",
      "Fizz\n",
      "4\n",
      "Buzz\n",
      "Fizz\n",
      "7\n",
      "8\n",
      "Fizz\n",
      "Buzz\n",
      "11\n",
      "Fizz\n",
      "13\n",
      "14\n",
      "FizzBuzz\n",
      "16\n",
      "17\n",
      "Fizz\n",
      "19\n",
      "Buzz\n",
      "Fizz\n",
      "22\n",
      "23\n",
      "Fizz\n",
      "Buzz\n",
      "26\n",
      "Fizz\n",
      "28\n",
      "29\n",
      "FizzBuzz\n",
      "31\n",
      "32\n",
      "Fizz\n",
      "34\n",
      "Buzz\n",
      "Fizz\n",
      "37\n",
      "38\n",
      "Fizz\n",
      "Buzz\n",
      "41\n",
      "Fizz\n",
      "43\n",
      "44\n",
      "FizzBuzz\n",
      "46\n",
      "47\n",
      "Fizz\n",
      "49\n",
      "Buzz\n",
      "Fizz\n",
      "52\n",
      "53\n",
      "Fizz\n",
      "Buzz\n",
      "56\n",
      "Fizz\n",
      "58\n",
      "59\n",
      "FizzBuzz\n",
      "61\n",
      "62\n",
      "Fizz\n",
      "64\n",
      "Buzz\n",
      "Fizz\n",
      "67\n",
      "68\n",
      "Fizz\n",
      "Buzz\n",
      "71\n",
      "Fizz\n",
      "73\n",
      "74\n",
      "FizzBuzz\n",
      "76\n",
      "77\n",
      "Fizz\n",
      "79\n",
      "Buzz\n",
      "Fizz\n",
      "82\n",
      "83\n",
      "Fizz\n",
      "Buzz\n",
      "86\n",
      "Fizz\n",
      "88\n",
      "89\n",
      "FizzBuzz\n",
      "91\n",
      "92\n",
      "Fizz\n",
      "94\n",
      "Buzz\n",
      "Fizz\n",
      "97\n",
      "98\n",
      "Fizz\n",
      "Buzz\n"
     ]
    }
   ],
   "source": [
    "for i in range(1,101): #looping from 1 to 100\n",
    "    if (i % 3 == 0) and (i % 5 == 0): \n",
    "        print(\"FizzBuzz\")\n",
    "    elif i % 3 == 0:\n",
    "        print(\"Fizz\")\n",
    "    elif i % 5 == 0:\n",
    "        print(\"Buzz\")\n",
    "    else:\n",
    "        print(i)"
   ]
  },
  {
   "cell_type": "code",
   "execution_count": 11,
   "id": "1445aff4-ddac-46b9-b0c1-353815502c93",
   "metadata": {},
   "outputs": [
    {
     "name": "stdin",
     "output_type": "stream",
     "text": [
      "Enter the nth number to find in the fibonacci sequence:  10\n"
     ]
    },
    {
     "name": "stdout",
     "output_type": "stream",
     "text": [
      "The 10th/rd Fibonacci number is 55\n"
     ]
    }
   ],
   "source": [
    "nterm = int(input(\"Enter the nth number to find in the fibonacci sequence: \")) #taking int input\n",
    "if nterm < 0: #invalidation of input\n",
    "    print(\"Invalid Input!\")\n",
    "else:\n",
    "    n1, n2 = 0, 1 #first two numbers of the fibonacci sequence\n",
    "    for i in range(nterm):\n",
    "        n1, n2 = n2, n1 + n2 #sum of the previous two terms gives the next term, which we're calculating till the nth term\n",
    "    print(f\"The {nterm}th/rd Fibonacci number is {n1}\")"
   ]
  },
  {
   "cell_type": "code",
   "execution_count": 13,
   "id": "0d38c403-53ee-4944-887f-a0b954ff366e",
   "metadata": {},
   "outputs": [
    {
     "name": "stdin",
     "output_type": "stream",
     "text": [
      "Enter a number to check if it's prime or not:  7\n"
     ]
    },
    {
     "name": "stdout",
     "output_type": "stream",
     "text": [
      "7 is a prime number\n"
     ]
    }
   ],
   "source": [
    "number = int(input(\"Enter a number to check if it's prime or not: \"))\n",
    "is_prime = True #assuming a number is prime by default\n",
    "if number < 2: #since prime numbers start from 2 and so on\n",
    "    is_prime = False\n",
    "else:\n",
    "    for i in range(2, number): #checking if the number is divisible by 2 and n-1 numbers, since a prime number is divisible by 1 and the number itself\n",
    "        if number % i == 0: \n",
    "            is_prime = False\n",
    "            break #exiting the loop if it turns out to be divisible by any of the numbers between 1 and n-1\n",
    "if is_prime: #would execute the if block if the is_prime is TRUE\n",
    "    print(f\"{number} is a prime number\")\n",
    "else:\n",
    "    print(f\"{number} is not a prime number\")"
   ]
  },
  {
   "cell_type": "code",
   "execution_count": 16,
   "id": "e8c2eeea-bd10-4a1d-9f87-791e648ce22b",
   "metadata": {},
   "outputs": [
    {
     "name": "stdin",
     "output_type": "stream",
     "text": [
      "Enter your guess:  20\n"
     ]
    },
    {
     "name": "stdout",
     "output_type": "stream",
     "text": [
      "Too low!\n"
     ]
    },
    {
     "name": "stdin",
     "output_type": "stream",
     "text": [
      "Enter your guess:  30\n"
     ]
    },
    {
     "name": "stdout",
     "output_type": "stream",
     "text": [
      "Too low!\n"
     ]
    },
    {
     "name": "stdin",
     "output_type": "stream",
     "text": [
      "Enter your guess:  40\n"
     ]
    },
    {
     "name": "stdout",
     "output_type": "stream",
     "text": [
      "Too low!\n"
     ]
    },
    {
     "name": "stdin",
     "output_type": "stream",
     "text": [
      "Enter your guess:  50\n"
     ]
    },
    {
     "name": "stdout",
     "output_type": "stream",
     "text": [
      "Too low!\n"
     ]
    },
    {
     "name": "stdin",
     "output_type": "stream",
     "text": [
      "Enter your guess:  70\n"
     ]
    },
    {
     "name": "stdout",
     "output_type": "stream",
     "text": [
      "Too low!\n"
     ]
    },
    {
     "name": "stdin",
     "output_type": "stream",
     "text": [
      "Enter your guess:  80\n"
     ]
    },
    {
     "name": "stdout",
     "output_type": "stream",
     "text": [
      "Too High!\n"
     ]
    },
    {
     "name": "stdin",
     "output_type": "stream",
     "text": [
      "Enter your guess:  74\n"
     ]
    },
    {
     "name": "stdout",
     "output_type": "stream",
     "text": [
      "Too High!\n"
     ]
    },
    {
     "name": "stdin",
     "output_type": "stream",
     "text": [
      "Enter your guess:  73\n"
     ]
    },
    {
     "name": "stdout",
     "output_type": "stream",
     "text": [
      "Correct guess!\n"
     ]
    }
   ],
   "source": [
    "import random\n",
    "computer_choice = random.randint(0,100) #computer randomly chooses a number between 0 and 100\n",
    "guess = int(input(\"Enter your guess: \"))\n",
    "while guess != computer_choice: #keeps running until the guess is correct\n",
    "    if guess < computer_choice:\n",
    "        print(\"Too low!\")\n",
    "        guess = int(input(\"Enter your guess: \")) \n",
    "    elif guess > computer_choice:\n",
    "        print(\"Too High!\")\n",
    "        guess = int(input(\"Enter your guess: \")) \n",
    "print(\"Correct guess!\")"
   ]
  },
  {
   "cell_type": "code",
   "execution_count": 17,
   "id": "8ed3940a-e615-4430-8e50-8feb0825fa64",
   "metadata": {},
   "outputs": [
    {
     "name": "stdout",
     "output_type": "stream",
     "text": [
      "[0, 1, 4, 9, 16, 25, 36, 49, 64, 81, 100]\n"
     ]
    }
   ],
   "source": [
    "squared_list = [n*n for n in range(11)]\n",
    "print(squared_list)"
   ]
  },
  {
   "cell_type": "code",
   "execution_count": 20,
   "id": "705e9311-3b64-4f8d-8d9f-3d909d7d8895",
   "metadata": {},
   "outputs": [
    {
     "name": "stdin",
     "output_type": "stream",
     "text": [
      "Enter a sentence:  A man, a plan, a canal: Panama\n"
     ]
    },
    {
     "name": "stdout",
     "output_type": "stream",
     "text": [
      "sentence is palindrome\n"
     ]
    }
   ],
   "source": [
    "string = input(\"Enter a sentence: \")\n",
    "clean_string = \"\".join(char for char in string if char.isalnum()).lower() #making the string all lowercase and replacing space characters with no space and ignoring the punctuations too\n",
    "reversed_string = clean_string[::-1] #reversing the string \n",
    "if clean_string == reversed_string: #checking if both are equal i.e if it's palindrome\n",
    "    print(\"sentence is palindrome\")\n",
    "else:\n",
    "    print(\"sentence is not palindrome\")"
   ]
  },
  {
   "cell_type": "code",
   "execution_count": 22,
   "id": "873dbfc9-b326-4dde-a56e-4aeb26c6da8c",
   "metadata": {},
   "outputs": [
    {
     "name": "stdin",
     "output_type": "stream",
     "text": [
      "Enter the first string:  listen\n",
      "Enter the second string:  silent\n"
     ]
    },
    {
     "name": "stdout",
     "output_type": "stream",
     "text": [
      "listen and silent are anagrams\n"
     ]
    }
   ],
   "source": [
    "first_string = input(\"Enter the first string: \")\n",
    "second_string = input(\"Enter the second string: \")\n",
    "if len(first_string) != len(second_string):\n",
    "    print(f\"{first_string} and {second_string} are not anagrams\")\n",
    "else:\n",
    "    sorted_first_string = sorted(first_string.lower())\n",
    "    sorted_second_string = sorted(second_string.lower())\n",
    "    if sorted_first_string == sorted_second_string:\n",
    "        print(f\"{first_string} and {second_string} are anagrams\")\n",
    "    else:\n",
    "        print(f\"{first_string} and {second_string} are not anagrams\")"
   ]
  },
  {
   "cell_type": "code",
   "execution_count": 23,
   "id": "6af44a59-fb05-44fd-b9c1-47a6d24dddbf",
   "metadata": {},
   "outputs": [
    {
     "name": "stdin",
     "output_type": "stream",
     "text": [
      "Enter a sentence:  The quick brown fox jumps over the lazy dog.\n"
     ]
    },
    {
     "name": "stdout",
     "output_type": "stream",
     "text": [
      "Reversed sentence is: dog. lazy the over jumps fox brown quick The\n"
     ]
    }
   ],
   "source": [
    "sentence = input(\"Enter a sentence: \")\n",
    "words = sentence.split()\n",
    "words.reverse()\n",
    "reversed_sentence = \" \".join(words)\n",
    "print(f\"Reversed sentence is: {reversed_sentence}\")"
   ]
  },
  {
   "cell_type": "code",
   "execution_count": 24,
   "id": "5f2513a8-d754-487c-a82b-4f7d613e262b",
   "metadata": {},
   "outputs": [
    {
     "name": "stdin",
     "output_type": "stream",
     "text": [
      "Enter temperature in celsisus:  20\n"
     ]
    },
    {
     "name": "stdout",
     "output_type": "stream",
     "text": [
      "20.0 C = 68.00 F = 293.15 K\n"
     ]
    }
   ],
   "source": [
    "celsius = float(input(\"Enter temperature in celsisus: \"))\n",
    "farenheit = (celsius * 9/5) + 32\n",
    "kelvin = celsius + 273.15\n",
    "print(f\"{celsius} C = {farenheit:.2f} F = {kelvin:.2f} K\")"
   ]
  },
  {
   "cell_type": "code",
   "execution_count": 25,
   "id": "877a87e7-7eee-49c3-ac7b-125db31dde0b",
   "metadata": {},
   "outputs": [
    {
     "name": "stdout",
     "output_type": "stream",
     "text": [
      "0\n",
      "2\n",
      "4\n",
      "6\n",
      "8\n",
      "10\n"
     ]
    }
   ],
   "source": [
    "class EvenNumbers:\n",
    "    def __init__(self, limit):\n",
    "        self.limit = limit\n",
    "        self.current = 0\n",
    "    def __iter__(self):\n",
    "        return self\n",
    "    def __next__(self):\n",
    "        if self.current > self.limit:\n",
    "            raise StopIteration\n",
    "        result = self.current\n",
    "        self.current += 2\n",
    "        return result\n",
    "\n",
    "it = EvenNumbers(10)\n",
    "for num in it:\n",
    "    print(num)"
   ]
  }
 ],
 "metadata": {
  "kernelspec": {
   "display_name": "Python [conda env:base] *",
   "language": "python",
   "name": "conda-base-py"
  },
  "language_info": {
   "codemirror_mode": {
    "name": "ipython",
    "version": 3
   },
   "file_extension": ".py",
   "mimetype": "text/x-python",
   "name": "python",
   "nbconvert_exporter": "python",
   "pygments_lexer": "ipython3",
   "version": "3.13.5"
  }
 },
 "nbformat": 4,
 "nbformat_minor": 5
}
