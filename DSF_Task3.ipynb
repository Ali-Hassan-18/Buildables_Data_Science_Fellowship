{
 "cells": [
  {
   "cell_type": "code",
   "execution_count": 1,
   "id": "ad0dd09f-3bfa-460d-95be-b73fb296deed",
   "metadata": {},
   "outputs": [
    {
     "name": "stdin",
     "output_type": "stream",
     "text": [
      "Enter a number:  5\n"
     ]
    },
    {
     "name": "stdout",
     "output_type": "stream",
     "text": [
      "The factorial of 5 is 120\n"
     ]
    }
   ],
   "source": [
    "def factorial(n):\n",
    "    if n == 0 or n == 1:  #base case\n",
    "        return 1\n",
    "    else:\n",
    "        return n * factorial(n - 1)  #recursive step\n",
    "num = int(input(\"Enter a number: \"))\n",
    "result = factorial(num)\n",
    "print(f\"The factorial of {num} is {result}\")"
   ]
  },
  {
   "cell_type": "code",
   "execution_count": 2,
   "id": "7b6f0d46-2ab9-4d1e-8c86-7748bc6d6648",
   "metadata": {},
   "outputs": [
    {
     "name": "stdin",
     "output_type": "stream",
     "text": [
      "Enter numbers for linked list (space-separated):  1 2 3 2 1\n"
     ]
    },
    {
     "name": "stdout",
     "output_type": "stream",
     "text": [
      "The linked list is a palindrome.\n"
     ]
    }
   ],
   "source": [
    "class Node:\n",
    "    def __init__(self, value):\n",
    "        self.value = value\n",
    "        self.next = None\n",
    "\n",
    "def create_linked_list(values):\n",
    "    if not values:  #empty input\n",
    "        return None\n",
    "    head = Node(values[0])\n",
    "    current = head\n",
    "    for val in values[1:]:\n",
    "        current.next = Node(val)\n",
    "        current = current.next\n",
    "    return head\n",
    "\n",
    "def is_palindrome(head):\n",
    "    values = []\n",
    "    current = head\n",
    "    while current:\n",
    "        values.append(current.value)\n",
    "        current = current.next\n",
    "    return values == values[::-1]\n",
    "\n",
    "numbers = input(\"Enter numbers for linked list (space-separated): \")\n",
    "values = list(map(int, numbers.split()))  #turn input into list of ints\n",
    "head = create_linked_list(values)\n",
    "if is_palindrome(head):\n",
    "    print(\"The linked list is a palindrome.\")\n",
    "else:\n",
    "    print(\"The linked list is not a palindrome.\")"
   ]
  },
  {
   "cell_type": "code",
   "execution_count": 3,
   "id": "e7064799-4959-4b56-a5bc-099044e0208e",
   "metadata": {},
   "outputs": [
    {
     "name": "stdin",
     "output_type": "stream",
     "text": [
      "Enter first sorted array (space-separated):  1 3 5\n",
      "Enter second sorted array (space-separated):  2 4 6\n"
     ]
    },
    {
     "name": "stdout",
     "output_type": "stream",
     "text": [
      "Merged array: [1, 2, 3, 4, 5, 6]\n"
     ]
    }
   ],
   "source": [
    "def merge_arrays(arr1, arr2):\n",
    "    return sorted(arr1 + arr2)\n",
    "\n",
    "a = list(map(int, input(\"Enter first sorted array (space-separated): \").split()))\n",
    "b = list(map(int, input(\"Enter second sorted array (space-separated): \").split()))\n",
    "print(\"Merged array:\", merge_arrays(a, b))"
   ]
  },
  {
   "cell_type": "code",
   "execution_count": 6,
   "id": "ce282551-21d3-485b-a42c-83691331de85",
   "metadata": {},
   "outputs": [
    {
     "name": "stdin",
     "output_type": "stream",
     "text": [
      "Enter numbers to insert into BST:  70 50 60 20 10 30 40\n"
     ]
    },
    {
     "name": "stdout",
     "output_type": "stream",
     "text": [
      "\n",
      "Inorder Traversal after insertion: \n",
      "10 20 30 40 50 60 70 "
     ]
    },
    {
     "name": "stdin",
     "output_type": "stream",
     "text": [
      "\n",
      "\n",
      "Enter a number to search:  40\n"
     ]
    },
    {
     "name": "stdout",
     "output_type": "stream",
     "text": [
      "40 is found in BST.\n"
     ]
    },
    {
     "name": "stdin",
     "output_type": "stream",
     "text": [
      "\n",
      "Enter a number to delete:  50\n"
     ]
    },
    {
     "name": "stdout",
     "output_type": "stream",
     "text": [
      "Inorder Traversal after deletion: \n",
      "10 20 30 40 60 70 "
     ]
    }
   ],
   "source": [
    "class Node:\n",
    "    def __init__(self, key):\n",
    "        self.key = key\n",
    "        self.left = None\n",
    "        self.right = None\n",
    "\n",
    "def insert(root, key):\n",
    "    if root is None:\n",
    "        return Node(key)\n",
    "    if key < root.key:\n",
    "        root.left = insert(root.left, key)\n",
    "    elif key > root.key:\n",
    "        root.right = insert(root.right, key)\n",
    "    return root\n",
    "\n",
    "def search(root, key):\n",
    "    if root is None:\n",
    "        return False\n",
    "    if root.key == key:\n",
    "        return True\n",
    "    elif key < root.key:\n",
    "        return search(root.left, key)\n",
    "    else:\n",
    "        return search(root.right, key)\n",
    "\n",
    "def delete(root, key):\n",
    "    if root is None:\n",
    "        return root\n",
    "    if key < root.key:\n",
    "        root.left = delete(root.left, key)\n",
    "    elif key > root.key:\n",
    "        root.right = delete(root.right, key)\n",
    "    else:\n",
    "        #Case 1: No child / one child\n",
    "        if root.left is None:\n",
    "            return root.right\n",
    "        elif root.right is None:\n",
    "            return root.left\n",
    "        #Case 2: Two children → find inorder successor\n",
    "        successor = min_value_node(root.right)\n",
    "        root.key = successor.key\n",
    "        root.right = delete(root.right, successor.key)\n",
    "    return root\n",
    "\n",
    "def min_value_node(node):\n",
    "    current = node\n",
    "    while current.left:\n",
    "        current = current.left\n",
    "    return current\n",
    "\n",
    "#Inorder Traversal (to print sorted order)\n",
    "def inorder(root):\n",
    "    if root:\n",
    "        inorder(root.left)\n",
    "        print(root.key, end=\" \")\n",
    "        inorder(root.right)\n",
    "\n",
    "root = None\n",
    "values = list(map(int, input(\"Enter numbers to insert into BST: \").split()))\n",
    "\n",
    "for v in values:\n",
    "    root = insert(root, v)\n",
    "print(\"\\nInorder Traversal after insertion: \")\n",
    "inorder(root)\n",
    "key = int(input(\"\\n\\nEnter a number to search: \"))\n",
    "if search(root, key):\n",
    "    print(f\"{key} is found in BST.\")\n",
    "else:\n",
    "    print(f\"{key} is not found in BST.\")\n",
    "del_key = int(input(\"\\nEnter a number to delete: \"))\n",
    "root = delete(root, del_key)\n",
    "print(\"Inorder Traversal after deletion: \")\n",
    "inorder(root)"
   ]
  },
  {
   "cell_type": "code",
   "execution_count": 7,
   "id": "0b4ddcca-4bba-4e91-a8f2-43394cf1dd86",
   "metadata": {},
   "outputs": [
    {
     "name": "stdin",
     "output_type": "stream",
     "text": [
      "Enter a string:  babad\n"
     ]
    },
    {
     "name": "stdout",
     "output_type": "stream",
     "text": [
      "Longest palindromic substring is: bab\n"
     ]
    }
   ],
   "source": [
    "def longest_palindrome(s):\n",
    "    res = \"\"\n",
    "    for i in range(len(s)):\n",
    "        for j in range(i, len(s)):\n",
    "            substring = s[i:j+1]\n",
    "            if substring == substring[::-1] and len(substring) > len(res):\n",
    "                res = substring\n",
    "    return res\n",
    "text = input(\"Enter a string: \")\n",
    "print(f\"Longest palindromic substring is: {longest_palindrome(text)}\")"
   ]
  },
  {
   "cell_type": "code",
   "execution_count": 9,
   "id": "bc6322d1-a4b4-4751-ac63-b7aaafbf449e",
   "metadata": {},
   "outputs": [
    {
     "name": "stdin",
     "output_type": "stream",
     "text": [
      "Enter number of intervals:  4\n",
      "Enter interval (start end):  1 3\n",
      "Enter interval (start end):  2 6\n",
      "Enter interval (start end):  8 10\n",
      "Enter interval (start end):  15 18\n"
     ]
    },
    {
     "name": "stdout",
     "output_type": "stream",
     "text": [
      "Merged intervals: [[1, 6], [8, 10], [15, 18]]\n"
     ]
    }
   ],
   "source": [
    "def merge(intervals):\n",
    "    intervals.sort()\n",
    "    merged = []\n",
    "    for i in intervals:\n",
    "        if not merged or merged[-1][1] < i[0]:\n",
    "            merged.append(i)\n",
    "        else:\n",
    "            merged[-1][1] = max(merged[-1][1], i[1])\n",
    "    return merged\n",
    "\n",
    "n = int(input(\"Enter number of intervals: \"))\n",
    "intervals = []\n",
    "for _ in range(n):\n",
    "    x, y = map(int, input(\"Enter interval (start end): \").split())\n",
    "    intervals.append([x, y])\n",
    "print(f\"Merged intervals: {merge(intervals)}\")"
   ]
  },
  {
   "cell_type": "code",
   "execution_count": 10,
   "id": "9fc04734-f643-47c5-b033-f29b49283847",
   "metadata": {},
   "outputs": [
    {
     "name": "stdin",
     "output_type": "stream",
     "text": [
      "Enter array:  -2 1 -3 4 -1 2 1 -5 4\n"
     ]
    },
    {
     "name": "stdout",
     "output_type": "stream",
     "text": [
      "Maximum subarray sum is: 6\n"
     ]
    }
   ],
   "source": [
    "def max_subarray(arr):\n",
    "    max_sum = arr[0]\n",
    "    current = arr[0]\n",
    "    for num in arr[1:]:\n",
    "        current = max(num, current + num)\n",
    "        max_sum = max(max_sum, current)\n",
    "    return max_sum\n",
    "\n",
    "nums = list(map(int, input(\"Enter array: \").split()))\n",
    "print(f\"Maximum subarray sum is: {max_subarray(nums)}\")"
   ]
  },
  {
   "cell_type": "code",
   "execution_count": 11,
   "id": "c2be5187-0c13-4ac6-9312-a8bac25b3f3e",
   "metadata": {},
   "outputs": [
    {
     "name": "stdin",
     "output_type": "stream",
     "text": [
      "Enter linked list values:  1 2 3 4 5\n"
     ]
    },
    {
     "name": "stdout",
     "output_type": "stream",
     "text": [
      "Reversed list: 5 4 3 2 1 "
     ]
    }
   ],
   "source": [
    "class Node:\n",
    "    def __init__(self, val):\n",
    "        self.val = val\n",
    "        self.next = None\n",
    "\n",
    "def create_linked_list(values):\n",
    "    head = Node(values[0])\n",
    "    current = head\n",
    "    for v in values[1:]:\n",
    "        current.next = Node(v)\n",
    "        current = current.next\n",
    "    return head\n",
    "\n",
    "def reverse_list(head):\n",
    "    prev = None\n",
    "    current = head\n",
    "    while current:\n",
    "        nxt = current.next\n",
    "        current.next = prev\n",
    "        prev = current\n",
    "        current = nxt\n",
    "    return prev\n",
    "\n",
    "nums = list(map(int, input(\"Enter linked list values: \").split()))\n",
    "head = create_linked_list(nums)\n",
    "head = reverse_list(head)\n",
    "\n",
    "print(\"Reversed list:\", end=\" \")\n",
    "while head:\n",
    "    print(head.val, end=\" \")\n",
    "    head = head.next"
   ]
  },
  {
   "cell_type": "code",
   "execution_count": 12,
   "id": "170858a5-1b4a-40d9-af21-a81652bd927d",
   "metadata": {},
   "outputs": [
    {
     "name": "stdin",
     "output_type": "stream",
     "text": [
      "Enter first word:  kitten\n",
      "Enter second word:  sitting\n"
     ]
    },
    {
     "name": "stdout",
     "output_type": "stream",
     "text": [
      "Minimum edit distance: 3\n"
     ]
    }
   ],
   "source": [
    "def edit_distance(s1, s2):\n",
    "    m, n = len(s1), len(s2)\n",
    "    dp = [[0]*(n+1) for _ in range(m+1)]\n",
    "\n",
    "    for i in range(m+1):\n",
    "        for j in range(n+1):\n",
    "            if i == 0:\n",
    "                dp[i][j] = j\n",
    "            elif j == 0:\n",
    "                dp[i][j] = i\n",
    "            elif s1[i-1] == s2[j-1]:\n",
    "                dp[i][j] = dp[i-1][j-1]\n",
    "            else:\n",
    "                dp[i][j] = 1 + min(dp[i-1][j], dp[i][j-1], dp[i-1][j-1])\n",
    "    return dp[m][n]\n",
    "\n",
    "word1 = input(\"Enter first word: \")\n",
    "word2 = input(\"Enter second word: \")\n",
    "print(f\"Minimum edit distance: {edit_distance(word1, word2)}\")"
   ]
  },
  {
   "cell_type": "code",
   "execution_count": 15,
   "id": "02812d1d-cbdb-4ba3-80a6-6357ba41263a",
   "metadata": {},
   "outputs": [
    {
     "name": "stdin",
     "output_type": "stream",
     "text": [
      "Enter board size (rows cols):  4 4\n",
      "Row 1 letters:  THIS\n",
      "Row 2 letters:  WATS\n",
      "Row 3 letters:  FGDT\n",
      "Row 4 letters:  OAHG\n",
      "Enter words to search (space-separated):  THIS THAT WAS FAT HAT OATH\n"
     ]
    },
    {
     "name": "stdout",
     "output_type": "stream",
     "text": [
      "Words found in board: THIS THAT FAT HAT\n"
     ]
    }
   ],
   "source": [
    "rows, cols = map(int, input(\"Enter board size (rows cols): \").split())\n",
    "\n",
    "board = []\n",
    "for i in range(rows):\n",
    "    line = input(f\"Row {i+1} letters: \").replace(\" \", \"\").upper()\n",
    "    board.append(list(line))\n",
    "\n",
    "words = input(\"Enter words to search (space-separated): \").upper().split()\n",
    "\n",
    "def neighbors(r, c):\n",
    "    for dr in (-1, 0, 1):\n",
    "        for dc in (-1, 0, 1):\n",
    "            if dr == 0 and dc == 0:\n",
    "                continue\n",
    "            nr, nc = r + dr, c + dc\n",
    "            if 0 <= nr < rows and 0 <= nc < cols:\n",
    "                yield nr, nc\n",
    "\n",
    "def exists(word):\n",
    "    word = word.upper()\n",
    "\n",
    "    def dfs(r, c, index, visited):\n",
    "        if index == len(word):\n",
    "            return True\n",
    "        if (r, c) in visited or board[r][c] != word[index]:\n",
    "            return False\n",
    "\n",
    "        visited.add((r, c))\n",
    "        for nr, nc in neighbors(r, c):\n",
    "            if dfs(nr, nc, index + 1, visited):\n",
    "                return True\n",
    "        visited.remove((r, c))\n",
    "        return False\n",
    "\n",
    "    for r in range(rows):\n",
    "        for c in range(cols):\n",
    "            if dfs(r, c, 0, set()):\n",
    "                return True\n",
    "    return False\n",
    "\n",
    "found = [w for w in words if exists(w)]\n",
    "print(\"Words found in board:\", \" \".join(found))"
   ]
  },
  {
   "cell_type": "code",
   "execution_count": 16,
   "id": "e3853a5f-724a-4c70-af07-c63ce4f26405",
   "metadata": {},
   "outputs": [
    {
     "name": "stdin",
     "output_type": "stream",
     "text": [
      "How many Fibonacci numbers?  10\n"
     ]
    },
    {
     "name": "stdout",
     "output_type": "stream",
     "text": [
      "0\n",
      "1\n",
      "1\n",
      "2\n",
      "3\n",
      "5\n",
      "8\n",
      "13\n",
      "21\n",
      "34\n"
     ]
    }
   ],
   "source": [
    "def fibonacci(n):\n",
    "    a, b = 0, 1\n",
    "    for _ in range(n):\n",
    "        yield a\n",
    "        a, b = b, a + b\n",
    "num = int(input(\"How many Fibonacci numbers? \"))\n",
    "for val in fibonacci(num):\n",
    "    print(val)"
   ]
  }
 ],
 "metadata": {
  "kernelspec": {
   "display_name": "Python [conda env:base] *",
   "language": "python",
   "name": "conda-base-py"
  },
  "language_info": {
   "codemirror_mode": {
    "name": "ipython",
    "version": 3
   },
   "file_extension": ".py",
   "mimetype": "text/x-python",
   "name": "python",
   "nbconvert_exporter": "python",
   "pygments_lexer": "ipython3",
   "version": "3.13.5"
  }
 },
 "nbformat": 4,
 "nbformat_minor": 5
}
